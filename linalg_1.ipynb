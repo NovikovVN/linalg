{
 "cells": [
  {
   "cell_type": "markdown",
   "metadata": {},
   "source": [
    "__1.__ Исследовать на линейную зависимость:\n",
    "$$f_{1}(x)=e^{x}, f_{2}(x)=1, f_{3}(x)=x+1, f_{4}(x)=x-e^{x}.$$"
   ]
  },
  {
   "cell_type": "markdown",
   "metadata": {},
   "source": [
    "**Решение:**\n",
    "\n",
    "$\\lambda_{1}f_{1}+\\lambda_{2}f_{2}+\\lambda_{3}f_{3}+\\lambda_{4}f_{4}=0,$\n",
    "\n",
    "$\\lambda_{1}e^{x}+\\lambda_{2}\\cdot1+\\lambda_{3}(x+1)+\\lambda_{4}(x-e^{x})=0,$\n",
    "\n",
    "$\\lambda_{1}e^{x}+\\lambda_{2}\\cdot1+\\lambda_{3}x+\\lambda_{3}\\cdot1+\\lambda_{4}x-\\lambda_{4}e^{x}=0,$\n",
    "\n",
    "$(\\lambda_{1}-\\lambda_{4})e^{x}+(\\lambda_{3}+\\lambda_{4})x+(\\lambda_{2}+\\lambda_{3})\\cdot1=0,$\n",
    "\n",
    "$\\begin{cases}\n",
    " \\lambda_{1}-\\lambda_{4}=0,\\\\\n",
    " \\lambda_{3}+\\lambda_{4}=0,\\\\\n",
    " \\lambda_{2}+\\lambda_{3}=0,\n",
    "\\end{cases}$\n",
    "\n",
    "$\\begin{cases}\n",
    " \\lambda_{1}=\\lambda_{4},\\\\\n",
    " \\lambda_{3}=-\\lambda_{4},\\\\\n",
    " \\lambda_{2}=-\\lambda_{3},\n",
    "\\end{cases}$\n",
    "\n",
    "$\\begin{cases}\n",
    " \\lambda_{1}=\\lambda_{4},\\\\\n",
    " \\lambda_{2}=\\lambda_{4},\\\\\n",
    " \\lambda_{3}=-\\lambda_{4}.\n",
    "\\end{cases}$\n",
    "\n",
    "$\\lambda_{4}e^{x}+\\lambda_{4}\\cdot1-\\lambda_{4}x-\\lambda_{4}\\cdot1+\\lambda_{4}x-\\lambda_{4}e^{x}=0,$\n",
    "\n",
    "$\\lambda_{4}(e^{x}+1-x-1+x-e^{x})=0,$\n",
    "\n",
    "Тождество выполняется при любом числе $\\lambda_{4}$.\n",
    "\n",
    "**Ответ:** функции $f_{1}$, $f_{2}$, $f_{3}$, $f_{4}$ линейно зависимы."
   ]
  },
  {
   "cell_type": "markdown",
   "metadata": {},
   "source": [
    " "
   ]
  },
  {
   "cell_type": "markdown",
   "metadata": {},
   "source": [
    "__2.__ Исследовать на линейную зависимость:\n",
    "$$f_{1}(x)=2, f_{2}(x)=x, f_{3}(x)=x^{2}, f_{4}(x)=(x+1)^{2}.$$"
   ]
  },
  {
   "cell_type": "markdown",
   "metadata": {},
   "source": [
    "**Решение:**\n",
    "\n",
    "$\\lambda_{1}f_{1}+\\lambda_{2}f_{2}+\\lambda_{3}f_{3}+\\lambda_{4}f_{4}=0,$\n",
    "\n",
    "$\\lambda_{1}\\cdot2+\\lambda_{2}x+\\lambda_{3}x^{2}+\\lambda_{4}(x+1)^{2}=0,$\n",
    "\n",
    "$\\lambda_{1}\\cdot2+\\lambda_{2}x+\\lambda_{3}x^{2}+\\lambda_{4}(x^{2}+2x+1)=0,$\n",
    "\n",
    "$\\lambda_{1}\\cdot2+\\lambda_{2}x+\\lambda_{3}x^{2}+\\lambda_{4}x^{2}+\\lambda_{4}\\cdot2x+\\lambda_{4}\\cdot1=0,$\n",
    "\n",
    "$(\\lambda_{3}+\\lambda_{4})x^{2}+(\\lambda_{2}+2\\lambda_{4})x+(2\\lambda_{1}+\\lambda_{4})\\cdot1=0,$\n",
    "\n",
    "$\\begin{cases}\n",
    " \\lambda_{3}+\\lambda_{4}=0,\\\\\n",
    " \\lambda_{2}+2\\lambda_{4}=0,\\\\\n",
    " 2\\lambda_{1}+\\lambda_{4}=0,\n",
    "\\end{cases}$\n",
    "\n",
    "$\\begin{cases}\n",
    " \\lambda_{3}=-\\lambda_{4},\\\\\n",
    " \\lambda_{2}=-2\\lambda_{4},\\\\\n",
    " \\lambda_{1}=-\\lambda_{4}/2,\n",
    "\\end{cases}$\n",
    "\n",
    "$-2\\cdot\\lambda_{4}/2-2\\lambda_{4}x-\\lambda_{4}x^{2}+\\lambda_{4}x^{2}+\\lambda_{4}\\cdot2x+\\lambda_{4}\\cdot1=0,$\n",
    "\n",
    "$\\lambda_{4}(-1-2x-x^{2}+x^{2}+2x+1)=0,$\n",
    "\n",
    "Тождество выполняется при любом числе $\\lambda_{4}$.\n",
    "\n",
    "**Ответ:** функции $f_{1}$, $f_{2}$, $f_{3}$, $f_{4}$ линейно зависимы."
   ]
  },
  {
   "cell_type": "markdown",
   "metadata": {},
   "source": [
    " "
   ]
  },
  {
   "cell_type": "markdown",
   "metadata": {},
   "source": [
    "__3.__ Найти координаты вектора $x = (2, 3, 5)\\in \\mathbb{R}^{3}$ в базисе $b_{1}=(0, 0, 10)$, $b_{2}=(2, 0, 0)$, $b_{3}=(0, 1, 0)$."
   ]
  },
  {
   "cell_type": "markdown",
   "metadata": {},
   "source": [
    "**Решение:**\n",
    "\n",
    "$x=0.5\\cdot b_{1}+1\\cdot b_{2}+3\\cdot b_{3}.$"
   ]
  },
  {
   "cell_type": "markdown",
   "metadata": {},
   "source": [
    " "
   ]
  },
  {
   "cell_type": "markdown",
   "metadata": {},
   "source": [
    "__4.__ Найти координаты вектора $3x^{2}-2x+2\\in\\mathbb{R}^{3}[x]$:\n",
    "\n",
    "   а) в базисе $1$, $x$, $x^{2}$;\n",
    "\n",
    "   б) в базисе $x^{2}$, $x-1$, $1$."
   ]
  },
  {
   "cell_type": "markdown",
   "metadata": {},
   "source": [
    "**Решение:**\n",
    "\n",
    "   а) $3x^{2}-2x+2=2\\cdot1+(-2)\\cdot x + 3\\cdot x^{2}$;\n",
    "\n",
    "   б) $3x^{2}-2x+2=3\\cdot x^{2}+2\\cdot(x-1)+0\\cdot1$."
   ]
  },
  {
   "cell_type": "markdown",
   "metadata": {},
   "source": [
    " "
   ]
  },
  {
   "cell_type": "markdown",
   "metadata": {},
   "source": [
    "__5.__ Установить, является ли линейным подпространством:\n",
    "\n",
    "а) совокупность всех векторов трехмерного пространства, у которых по крайней мере одна из первых двух координат равна нулю;\n",
    "    \n",
    "б) все векторы, являющиеся линейными комбинациями данных векторов $\\{u_{1}, u_{2}, ..., u_{n}\\}$."
   ]
  },
  {
   "cell_type": "markdown",
   "metadata": {},
   "source": [
    "**Решение:**\n",
    "\n",
    "   а) Пусть даны $x_{1}=(0, a, b)$ и $x_{2}=(c, 0, d)$, тогда:\n",
    "   \n",
    "   $\\alpha\\cdot x_{1}=\\alpha\\cdot(0, a, b)=(\\alpha\\cdot0, \\alpha\\cdot a, \\alpha\\cdot b) = (0, \\alpha\\cdot a, \\alpha\\cdot b)$ (требование выполняется - нулевая координата есть),\n",
    "   \n",
    "   $x_{1}+x_{2}=(0, a, b)+(c, 0, d)=(c, a, b+d)$ (требование не выполняется - нулевой координаты нет).\n",
    "\n",
    "   б) Пусть даны\n",
    "   \n",
    "   $x_{1}=a_{1}\\cdot u_{1}+a_{2}\\cdot u_{2}+...+a_{n}\\cdot u_{n}$ и\n",
    "   \n",
    "   $x_{2}=b_{1}\\cdot u_{1}+b_{2}\\cdot u_{2}+...+b_{n}\\cdot u_{n}$.\n",
    "   \n",
    "   Тогда:\n",
    "   \n",
    "   $\\alpha\\cdot x_{1}=\\alpha\\cdot a_{1}\\cdot u_{1}+\\alpha\\cdot a_{2} \\cdot u_{2}+...+\\alpha\\cdot a_{n} \\cdot u_{n}=c_{1}\\cdot u_{1}+c_{2}\\cdot u_{2}+...+c_{n}\\cdot u_{n}$,\n",
    "   \n",
    "   $x_{1}+x_{2}=(a_{1}+b_{1})\\cdot u_{1}+(a_{2}+b_{2})\\cdot u_{2}+...+(a_{n}+b_{n})\\cdot u_{n}=d_{1}\\cdot u_{1}+d_{2}\\cdot u_{2}+...+d_{n}\\cdot u_{n}$ (оба требования выполняются - линейная комбинация векторов сохраняется).\n",
    "   \n",
    "**Ответ:** а) не является и б) является."
   ]
  },
  {
   "cell_type": "markdown",
   "metadata": {},
   "source": [
    " "
   ]
  }
 ],
 "metadata": {
  "kernelspec": {
   "display_name": "Python 2",
   "language": "python",
   "name": "python2"
  },
  "language_info": {
   "codemirror_mode": {
    "name": "ipython",
    "version": 2
   },
   "file_extension": ".py",
   "mimetype": "text/x-python",
   "name": "python",
   "nbconvert_exporter": "python",
   "pygments_lexer": "ipython2",
   "version": "2.7.15"
  }
 },
 "nbformat": 4,
 "nbformat_minor": 2
}
