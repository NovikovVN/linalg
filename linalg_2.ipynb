{
 "cells": [
  {
   "cell_type": "code",
   "execution_count": 1,
   "metadata": {},
   "outputs": [],
   "source": [
    "import numpy as np"
   ]
  },
  {
   "cell_type": "markdown",
   "metadata": {},
   "source": [
    "__1.__ Найти скалярное произведение векторов $x, y \\in \\mathbb{R}$:<br>\n",
    "а) $x=(0,-3, 6),~y=(-4, 7, 9);$<br>\n",
    "б) $x=(7, -4, 0, 1),~y=(-3, 1, 11, 2).$"
   ]
  },
  {
   "cell_type": "markdown",
   "metadata": {},
   "source": [
    "**Решение:**\n",
    "\n",
    "а) $(x,y)=0\\cdot(-4)+(-3)\\cdot7+6\\cdot9=0-21+54=33.$"
   ]
  },
  {
   "cell_type": "code",
   "execution_count": 2,
   "metadata": {},
   "outputs": [
    {
     "data": {
      "text/plain": [
       "33"
      ]
     },
     "execution_count": 2,
     "metadata": {},
     "output_type": "execute_result"
    }
   ],
   "source": [
    "x = np.array([0, -3, 6])\n",
    "y = np.array([-4, 7, 9])\n",
    "\n",
    "np.dot(x, y)"
   ]
  },
  {
   "cell_type": "markdown",
   "metadata": {},
   "source": [
    "б) $(x,y)=7\\cdot(-3)+(-4)\\cdot1+0\\cdot11+1\\cdot2=-21-4+2=-23.$"
   ]
  },
  {
   "cell_type": "code",
   "execution_count": 3,
   "metadata": {},
   "outputs": [
    {
     "data": {
      "text/plain": [
       "-23"
      ]
     },
     "execution_count": 3,
     "metadata": {},
     "output_type": "execute_result"
    }
   ],
   "source": [
    "x = np.array([7, -4, 0, 1])\n",
    "y = np.array([-3, 1, 11, 2])\n",
    "\n",
    "np.dot(x, y)"
   ]
  },
  {
   "cell_type": "markdown",
   "metadata": {},
   "source": [
    " "
   ]
  },
  {
   "cell_type": "markdown",
   "metadata": {},
   "source": [
    "__2.__ Найти нормы векторов $(4, 2, 4)$ и $(12, 3, 4)$ и угол между ними."
   ]
  },
  {
   "cell_type": "markdown",
   "metadata": {},
   "source": [
    "**Решение:**\n",
    "\n",
    "а) $x = (4,2,4)$:\n",
    " - манхэттенская норма: $|4|+|2|+|4|=10$.\n",
    " - евклидова норма: $\\sqrt{4^{2}+2^{2}+4^{2}}=\\sqrt{36}=6$,\n",
    " \n",
    "б) $y = (12,3,4)$:\n",
    " - манхэттенская норма: $|12|+|3|+|4|=19$.\n",
    " - евклидова норма: $\\sqrt{12^{2}+3^{2}+4^{2}}=\\sqrt{169}=13$,\n",
    "\n",
    "в) угол $\\phi$ между $x$ и $y$:\n",
    "$$cos\\varphi = \\frac{4\\cdot12+2\\cdot3+4\\cdot4}{\\sqrt{4^{2}+2^{2}+4^{2}}\\sqrt{12^{2}+3^{2}+4^{2}}}=\\frac{70}{6\\cdot13}\\approx 0.897$$\n",
    "\n",
    "$$\\phi = \\arccos 0.897\\approx 0.457$$"
   ]
  },
  {
   "cell_type": "code",
   "execution_count": 4,
   "metadata": {},
   "outputs": [
    {
     "name": "stdout",
     "output_type": "stream",
     "text": [
      "манхэттенская норма x: 10.0,\n",
      "евклидова норма x: 6.0,\n"
     ]
    }
   ],
   "source": [
    "x = [4, 2, 4]\n",
    "\n",
    "print(u'манхэттенская норма x: {},'.format(np.linalg.norm(x, ord=1)))\n",
    "print(u'евклидова норма x: {},'.format(np.linalg.norm(x, ord=2)))"
   ]
  },
  {
   "cell_type": "code",
   "execution_count": 5,
   "metadata": {},
   "outputs": [
    {
     "name": "stdout",
     "output_type": "stream",
     "text": [
      "манхэттенская норма y: 19.0,\n",
      "евклидова норма y: 13.0,\n"
     ]
    }
   ],
   "source": [
    "y = [12, 3, 4]\n",
    "\n",
    "print(u'манхэттенская норма y: {},'.format(np.linalg.norm(y, ord=1)))\n",
    "print(u'евклидова норма y: {},'.format(np.linalg.norm(y, ord=2)))"
   ]
  },
  {
   "cell_type": "code",
   "execution_count": 6,
   "metadata": {},
   "outputs": [
    {
     "name": "stdout",
     "output_type": "stream",
     "text": [
      "косинус угла между x и y: 0.897435897436,\n",
      "угол между x и y: 0.456874003533.\n"
     ]
    }
   ],
   "source": [
    "cos_phi = np.dot(x, y) / (np.linalg.norm(x) * np.linalg.norm(y))\n",
    "phi = np.arccos(cos_phi)\n",
    "\n",
    "print(u'косинус угла между x и y: {},'.format(cos_phi))\n",
    "print(u'угол между x и y: {}.'.format(phi))"
   ]
  },
  {
   "cell_type": "markdown",
   "metadata": {},
   "source": [
    " "
   ]
  },
  {
   "cell_type": "markdown",
   "metadata": {},
   "source": [
    "__3.__ Будет ли линейное пространство евклидовым, если за скалярное произведение принять:<br>\n",
    "а) произведение длин векторов;<br>\n",
    "б) утроенное обычное скалярное произведение векторов?"
   ]
  },
  {
   "cell_type": "markdown",
   "metadata": {},
   "source": [
    "**Решение:**\n",
    "\n",
    "Проверим выполнение требований к евклидовому пространству.\n",
    "\n",
    "а) Пусть векторы имеют длины $a$ и $b$ (а также $a_{1}$ и $a_{2}$):\n",
    " - $a\\cdot b=b\\cdot a;$<br>\n",
    " - $(\\lambda a)\\cdot b=\\lambda(a\\cdot b);$<br>\n",
    " - $(a_{1}+a_{2})\\cdot b=a_{1}\\cdot b+a_{2}\\cdot b;$<br>\n",
    " - $a\\cdot a\\geq0$, причем $a\\cdot a=0\\Leftrightarrow a=0.$\n",
    "\n",
    "Требования выполнены.\n",
    "\n",
    "б) Домножим скалярные произведения векторов $x$ и $y$ ($x_{1}$ и $x_{2}$) на 3:\n",
    " - $3\\cdot(x,y)=3\\cdot(y,x);$<br>\n",
    " - $3\\cdot(\\lambda x, y)=3\\cdot\\lambda(x, y);$<br>\n",
    " - $3\\cdot(x_{1}+x_{2},y)=3\\cdot(x_{1},y)+3\\cdot(x_{2},y);$<br>\n",
    " - $3\\cdot(x, x)\\geq0$, причем $3\\cdot(x,x)=0\\Leftrightarrow x=0.$\n",
    "\n",
    "Требования выполнены."
   ]
  },
  {
   "cell_type": "markdown",
   "metadata": {},
   "source": [
    " "
   ]
  },
  {
   "cell_type": "markdown",
   "metadata": {},
   "source": [
    "__4.__ Какие из нижеперечисленных векторов образуют ортонормированный базис в линейном пространстве $\\mathbb{R}^{3}$:<br>\n",
    "а) $(1,0,0),(0,0,1);$ <br>\n",
    "б) $(1/\\sqrt{2},-1/\\sqrt{2},0),(1/\\sqrt{2},1/\\sqrt{2},0), (0,0,1);$<br>\n",
    "в) $(1/2, -1/2, 0), (0, 1/2, 1/2), (0,0,1);$<br>\n",
    "г) $(1,0,0),(0,1,0),(0,0,1)?$ "
   ]
  },
  {
   "cell_type": "markdown",
   "metadata": {},
   "source": [
    "**Решение:**\n",
    "\n",
    "Требования ортонормированного базиса к векторам: $(e_{i}, e_{j})=0$ $\\forall$ $i\\neq j$ и $(e_{i},e_{i})=1$ $\\forall$ $i\\in[1, n].$\n",
    "\n",
    "а) $e_{1}=(1,0,0), e_{2}=(0,0,1)$<br>\n",
    "$(e_{1},e_{2})=1\\cdot0+0\\cdot0+0\\cdot1=0,$<br>\n",
    "$(e_{1},e_{1})=1\\cdot1+0\\cdot0+0\\cdot0=1,$<br>\n",
    "$(e_{2},e_{2})=0\\cdot0+0\\cdot0+1\\cdot1=1.$<br>\n",
    "\n",
    "б) $e_{1}=(1/\\sqrt{2},-1/\\sqrt{2},0), e_{2}=(1/\\sqrt{2},1/\\sqrt{2},0), e_{3}=(0,0,1);$<br>\n",
    "$(e_{1},e_{2})=(1/\\sqrt{2})\\cdot(1/\\sqrt{2})+(-1/\\sqrt{2})\\cdot(1/\\sqrt{2})+0\\cdot1=1/2-1/2+0=0,$<br>\n",
    "$(e_{2},e_{3})=(1/\\sqrt{2})\\cdot0+(1/\\sqrt{2})\\cdot0+0\\cdot1=0+0+0=0,$<br>\n",
    "$(e_{1},e_{3})=(1/\\sqrt{2})\\cdot0+(-1/\\sqrt{2})\\cdot0+0\\cdot1=0+0+0=0,$<br>\n",
    "$(e_{1},e_{1})=(1/\\sqrt{2})\\cdot(1/\\sqrt{2})+(-1/\\sqrt{2})\\cdot(-1/\\sqrt{2})+0\\cdot0=1/2+1/2+0=1,$<br>\n",
    "$(e_{2},e_{2})=(1/\\sqrt{2})\\cdot(1/\\sqrt{2})+(1/\\sqrt{2})\\cdot(1/\\sqrt{2})+0\\cdot0=1/2+1/2+0=1,$<br>\n",
    "$(e_{3},e_{3})=0\\cdot0+0\\cdot0+1\\cdot1=1.$ <br>\n",
    "\n",
    "в) $e_{1}=(1/2, -1/2, 0), e_{2}=(0, 1/2, 1/2), e_{3}=(0,0,1);$<br>\n",
    "$(e_{1},e_{2})=(1/2)\\cdot0+(-1/2)\\cdot(1/2)+0\\cdot(1/2)=0-1/4+0=-1/4,$<br>\n",
    "$(e_{2},e_{3})=0\\cdot0+(1/2)\\cdot0+(1/2)\\cdot1=0+0+1/2=1/2,$<br>\n",
    "$(e_{1},e_{3})=(1/2)\\cdot0+(-1/\\sqrt{2})\\cdot0+0\\cdot1=0+0+0=0,$<br>\n",
    "$(e_{1},e_{1})=(1/2)\\cdot(1/2)+(-1/2)\\cdot(-1/2)+0\\cdot0=1/4+1/4+0=1/2,$<br>\n",
    "$(e_{2},e_{2})=0\\cdot0+(1/2)\\cdot(1/2)+(1/2)\\cdot(1/2)=0+1/4+1/4=1/2,$<br>\n",
    "$(e_{3},e_{3})=0\\cdot0+0\\cdot0+1\\cdot1=1.$ <br>\n",
    "\n",
    "г) $e_{1}=(1,0,0),e_{2}=(0,1,0),e_{3}=(0,0,1);$<br>\n",
    "$(e_{1},e_{2})=1\\cdot0+0\\cdot1+0\\cdot0=0+0+0=0,$<br>\n",
    "$(e_{2},e_{3})=0\\cdot0+1\\cdot0+0\\cdot1=0+0+0=0,$<br>\n",
    "$(e_{1},e_{3})=1\\cdot0+0\\cdot0+0\\cdot1=0+0+0=0,$<br>\n",
    "$(e_{1},e_{1})=1\\cdot1+0\\cdot0+0\\cdot0=1+0+0=1,$<br>\n",
    "$(e_{2},e_{2})=0\\cdot0+1\\cdot1+0\\cdot0=0+1+0=1,$<br>\n",
    "$(e_{3},e_{3})=0\\cdot0+0\\cdot0+1\\cdot1=0+0+1=1.$ <br>\n",
    "\n",
    "**Ответ:** а), б), г) векторы образуют ортонормированный базис, в) не образуют."
   ]
  },
  {
   "cell_type": "markdown",
   "metadata": {},
   "source": [
    " "
   ]
  }
 ],
 "metadata": {
  "kernelspec": {
   "display_name": "Python 2",
   "language": "python",
   "name": "python2"
  },
  "language_info": {
   "codemirror_mode": {
    "name": "ipython",
    "version": 2
   },
   "file_extension": ".py",
   "mimetype": "text/x-python",
   "name": "python",
   "nbconvert_exporter": "python",
   "pygments_lexer": "ipython2",
   "version": "2.7.15"
  }
 },
 "nbformat": 4,
 "nbformat_minor": 2
}
